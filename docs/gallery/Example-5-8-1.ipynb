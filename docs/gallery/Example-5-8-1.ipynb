{
 "cells": [
  {
   "cell_type": "code",
   "execution_count": 1,
   "metadata": {
    "collapsed": true
   },
   "outputs": [],
   "source": [
    "import numpy as np\n",
    "import pandas as pd\n",
    "import LaviRot as lr\n",
    "import matplotlib.pyplot as plt\n",
    "from LaviRot.materials import steel\n",
    "np.set_printoptions(precision=1, linewidth=300)\n",
    "%matplotlib inline"
   ]
  },
  {
   "cell_type": "code",
   "execution_count": 2,
   "metadata": {
    "collapsed": true
   },
   "outputs": [],
   "source": [
    "# n_elements = [2, 4, 6, 8, 10, 12, 14, 16, 18, 20, 80]\n",
    "n_elements = [6]\n",
    "speed = 523.6"
   ]
  },
  {
   "cell_type": "code",
   "execution_count": 3,
   "metadata": {
    "collapsed": true
   },
   "outputs": [],
   "source": [
    "shaft_od = 0.08\n",
    "shaft_id = 0.03\n",
    "shaft_len = 1.2"
   ]
  },
  {
   "cell_type": "code",
   "execution_count": 4,
   "metadata": {
    "collapsed": true
   },
   "outputs": [],
   "source": [
    "steel_ex = lr.Material('steel_ex', rho=7800, E=200e9, Poisson=0.27)"
   ]
  },
  {
   "cell_type": "code",
   "execution_count": 5,
   "metadata": {},
   "outputs": [],
   "source": [
    "rotors_wn = np.zeros((6, len(n_elements)))\n",
    "for i, n_el in enumerate(n_elements):\n",
    "    bearing0 = lr.BearingElement(0, kxx=1e18, cxx=0)\n",
    "    bearing1 = lr.BearingElement(n_el, kxx=1e18, cxx=0)\n",
    "    bearings = [bearing0, bearing1]\n",
    "\n",
    "    shaft = [lr.ShaftElement(shaft_len/n_el, shaft_id, shaft_od, steel_ex, n=i)\n",
    "             for i in range(n_el)]\n",
    "    disk0 = lr.DiskElement(n_el//2, steel_ex, width=0.08, i_d=shaft_od, o_d=0.4)\n",
    "    rotor = lr.Rotor(shaft, [disk0], bearings, w=speed)\n",
    "    rotors_wn[:, i] = rotor.wd[:6]"
   ]
  },
  {
   "cell_type": "code",
   "execution_count": 6,
   "metadata": {},
   "outputs": [
    {
     "data": {
      "text/plain": [
       "array([[  339.5],\n",
       "       [  339.5],\n",
       "       [ 1539.5],\n",
       "       [ 2215.3],\n",
       "       [ 4921.9],\n",
       "       [ 4921.9]])"
      ]
     },
     "execution_count": 6,
     "metadata": {},
     "output_type": "execute_result"
    }
   ],
   "source": [
    "rotors_wn"
   ]
  },
  {
   "cell_type": "code",
   "execution_count": 7,
   "metadata": {},
   "outputs": [
    {
     "data": {
      "text/plain": [
       "0        (-0.948252905824+339.536672685j)\n",
       "1         (0.948252905717+339.536672764j)\n",
       "2      (7.70753665914e-09+1539.46753181j)\n",
       "3     (-9.28589736571e-09+2215.31438637j)\n",
       "4          (6.30652125211+4921.89750422j)\n",
       "5          (-6.30652125498+4921.8975042j)\n",
       "6       (2.68340599741e-10+5251.7837535j)\n",
       "7     (-1.60652453493e-09+5534.06460695j)\n",
       "8      (-6.1362220363e-09+15463.3678962j)\n",
       "9      (3.82715370507e-09+15531.3643729j)\n",
       "10     (4.16207202383e-09+15554.2446127j)\n",
       "11      (-6.80605422628e-09+15593.48018j)\n",
       "12    (-2.87988918598e-09+35618.6069852j)\n",
       "13     (3.61718491043e-10+35751.8688452j)\n",
       "14     (7.07339036302e-10+35792.0474296j)\n",
       "15    (-3.11314090305e-09+35921.3216299j)\n",
       "16     (-8.14907252789e-10+68406.681527j)\n",
       "17    (-1.36275601914e-09+68625.7802757j)\n",
       "18    (-1.86114450563e-09+68646.0852197j)\n",
       "19    (-1.24418875203e-09+68864.3811477j)\n",
       "20    (-4.05086616334e-09+121032.771737j)\n",
       "21    (-9.53150447458e-10+121115.880094j)\n",
       "22    (-2.07217287773e-09+121470.488615j)\n",
       "23    (-5.08387142847e-09+121553.708914j)\n",
       "24                         1432842918.07j\n",
       "25    (-1.78813934326e-07+1432843641.66j)\n",
       "26     (3.57627868652e-07+1432858357.03j)\n",
       "27    (-2.98023223877e-08+1432859080.67j)\n",
       "28    (-2.98023223877e-08-1432859080.67j)\n",
       "29     (3.57627868652e-07-1432858357.03j)\n",
       "30    (-1.78813934326e-07-1432843641.66j)\n",
       "31                        -1432842918.07j\n",
       "32    (-5.08387142847e-09-121553.708914j)\n",
       "33    (-2.07217287773e-09-121470.488615j)\n",
       "34    (-9.53150447458e-10-121115.880094j)\n",
       "35    (-4.05086616334e-09-121032.771737j)\n",
       "36    (-1.24418875203e-09-68864.3811477j)\n",
       "37    (-1.86114450563e-09-68646.0852197j)\n",
       "38    (-1.36275601914e-09-68625.7802757j)\n",
       "39     (-8.14907252789e-10-68406.681527j)\n",
       "40    (-3.11314090305e-09-35921.3216299j)\n",
       "41     (7.07339036302e-10-35792.0474296j)\n",
       "42     (3.61718491043e-10-35751.8688452j)\n",
       "43    (-2.87988918598e-09-35618.6069852j)\n",
       "44      (-6.80605422628e-09-15593.48018j)\n",
       "45     (4.16207202383e-09-15554.2446127j)\n",
       "46     (3.82715370507e-09-15531.3643729j)\n",
       "47     (-6.1362220363e-09-15463.3678962j)\n",
       "48    (-1.60652453493e-09-5534.06460695j)\n",
       "49      (2.68340599741e-10-5251.7837535j)\n",
       "50         (6.30652125211-4921.89750422j)\n",
       "51         (-6.30652125498-4921.8975042j)\n",
       "52    (-9.28589736571e-09-2215.31438637j)\n",
       "53     (7.70753665914e-09-1539.46753181j)\n",
       "54       (-0.948252905824-339.536672685j)\n",
       "55        (0.948252905717-339.536672764j)\n",
       "dtype: complex128"
      ]
     },
     "execution_count": 7,
     "metadata": {},
     "output_type": "execute_result"
    }
   ],
   "source": [
    "pd.Series(rotor.evalues)"
   ]
  },
  {
   "cell_type": "code",
   "execution_count": 10,
   "metadata": {},
   "outputs": [
    {
     "data": {
      "text/plain": [
       "56"
      ]
     },
     "execution_count": 10,
     "metadata": {},
     "output_type": "execute_result"
    }
   ],
   "source": [
    "len(rotor.A())"
   ]
  },
  {
   "cell_type": "code",
   "execution_count": 117,
   "metadata": {},
   "outputs": [],
   "source": [
    "ref = rotors_wn[:, -1].reshape(6, 1)\n",
    "error = np.abs((rotors_wn - ref) / ref)"
   ]
  },
  {
   "cell_type": "code",
   "execution_count": 119,
   "metadata": {},
   "outputs": [
    {
     "data": {
      "text/plain": [
       "[<matplotlib.lines.Line2D at 0x7fd7d9888f98>,\n",
       " <matplotlib.lines.Line2D at 0x7fd7d8e275c0>,\n",
       " <matplotlib.lines.Line2D at 0x7fd7d8e277b8>,\n",
       " <matplotlib.lines.Line2D at 0x7fd7d8e279b0>,\n",
       " <matplotlib.lines.Line2D at 0x7fd7d8e27ba8>,\n",
       " <matplotlib.lines.Line2D at 0x7fd7d8e27dd8>]"
      ]
     },
     "execution_count": 119,
     "metadata": {},
     "output_type": "execute_result"
    },
    {
     "data": {
      "image/png": "[encoded data removed]",
      "text/plain": [
       "<matplotlib.figure.Figure at 0x7fd7d8728dd8>"
      ]
     },
     "metadata": {},
     "output_type": "display_data"
    }
   ],
   "source": [
    "fig, ax = plt.subplots()\n",
    "ax.semilogy(n_elements[:-1], error[:, :-1].T)"
   ]
  },
  {
   "cell_type": "code",
   "execution_count": 101,
   "metadata": {},
   "outputs": [
    {
     "data": {
      "text/plain": [
       "(6, 9)"
      ]
     },
     "execution_count": 101,
     "metadata": {},
     "output_type": "execute_result"
    }
   ],
   "source": [
    "(error[:, :-1]).shape"
   ]
  },
  {
   "cell_type": "code",
   "execution_count": 103,
   "metadata": {},
   "outputs": [
    {
     "data": {
      "text/plain": [
       "array([[  339.5],\n",
       "       [  339.5],\n",
       "       [ 1815.9],\n",
       "       [ 1815.9],\n",
       "       [ 4912.1],\n",
       "       [ 4912.1]])"
      ]
     },
     "execution_count": 103,
     "metadata": {},
     "output_type": "execute_result"
    }
   ],
   "source": [
    "ref"
   ]
  },
  {
   "cell_type": "code",
   "execution_count": 108,
   "metadata": {},
   "outputs": [
    {
     "data": {
      "text/plain": [
       "array([[  339.6,   339.5,   339.5,   339.5,   339.5,   339.5],\n",
       "       [  339.6,   339.5,   339.5,   339.5,   339.5,   339.5],\n",
       "       [ 1546.7,  1538.8,  1539.5,  1540.8,  1542.5,  1544.7],\n",
       "       [ 2262.9,  2218.6,  2215.3,  2212.7,  2209.7,  2206. ],\n",
       "       [ 6451. ,  4952.9,  4921.9,  4915.3,  4913.5,  4912.8],\n",
       "       [ 6470.9,  4961.1,  4921.9,  4915.3,  4913.5,  4912.8]])"
      ]
     },
     "execution_count": 108,
     "metadata": {},
     "output_type": "execute_result"
    }
   ],
   "source": [
    "rotors_wn[:, :6]"
   ]
  },
  {
   "cell_type": "code",
   "execution_count": 109,
   "metadata": {},
   "outputs": [
    {
     "data": {
      "text/plain": [
       "array([[  9.4e-05,   1.4e-05,   2.3e-05,   2.5e-05,   2.5e-05,   2.5e-05],\n",
       "       [  1.9e-04,   1.4e-05,   2.3e-05,   2.5e-05,   2.5e-05,   2.5e-05],\n",
       "       [  1.5e-01,   1.5e-01,   1.5e-01,   1.5e-01,   1.5e-01,   1.5e-01],\n",
       "       [  2.5e-01,   2.2e-01,   2.2e-01,   2.2e-01,   2.2e-01,   2.1e-01],\n",
       "       [  3.1e-01,   8.3e-03,   2.0e-03,   6.6e-04,   2.8e-04,   1.5e-04],\n",
       "       [  3.2e-01,   1.0e-02,   2.0e-03,   6.6e-04,   2.8e-04,   1.5e-04]])"
      ]
     },
     "execution_count": 109,
     "metadata": {},
     "output_type": "execute_result"
    }
   ],
   "source": [
    "error[:, :6]"
   ]
  },
  {
   "cell_type": "code",
   "execution_count": null,
   "metadata": {
    "collapsed": true
   },
   "outputs": [],
   "source": [
    "rotor.e"
   ]
  }
 ],
 "metadata": {
  "kernelspec": {
   "display_name": "Python 3",
   "language": "python",
   "name": "python3"
  },
  "language_info": {
   "codemirror_mode": {
    "name": "ipython",
    "version": 3
   },
   "file_extension": ".py",
   "mimetype": "text/x-python",
   "name": "python",
   "nbconvert_exporter": "python",
   "pygments_lexer": "ipython3",
   "version": "3.6.2"
  },
  "latex_envs": {
   "LaTeX_envs_menu_present": true,
   "autocomplete": true,
   "bibliofile": "biblio.bib",
   "cite_by": "apalike",
   "current_citInitial": 1,
   "eqLabelWithNumbers": true,
   "eqNumInitial": 1,
   "hotkeys": {
    "equation": "Ctrl-E",
    "itemize": "Ctrl-I"
   },
   "labels_anchors": false,
   "latex_user_defs": false,
   "report_style_numbering": false,
   "user_envs_cfg": false
  }
 },
 "nbformat": 4,
 "nbformat_minor": 2
}
