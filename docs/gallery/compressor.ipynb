{
 "cells": [
  {
   "cell_type": "markdown",
   "metadata": {},
   "source": [
    "# Compressor"
   ]
  },
  {
   "cell_type": "code",
   "execution_count": null,
   "metadata": {},
   "outputs": [],
   "source": [
    "import LaviRot as lr\n",
    "import numpy as np\n",
    "%matplotlib inline"
   ]
  },
  {
   "cell_type": "markdown",
   "metadata": {},
   "source": [
    "For this example we will consider a compressor with shaft and impellers made from AISI 4140, which has the following properties."
   ]
  },
  {
   "cell_type": "code",
   "execution_count": null,
   "metadata": {},
   "outputs": [],
   "source": [
    "material = lr.materials.AISI4140"
   ]
  },
  {
   "cell_type": "markdown",
   "metadata": {},
   "source": [
    "Shaft's inner and outer diameter will be:"
   ]
  },
  {
   "cell_type": "code",
   "execution_count": null,
   "metadata": {},
   "outputs": [],
   "source": [
    "si_d = 0\n",
    "so_d = 0.127"
   ]
  },
  {
   "cell_type": "markdown",
   "metadata": {},
   "source": [
    "Now we define the length for each element, starting at the first element on the left (the element that will have the thrust collar)."
   ]
  },
  {
   "cell_type": "code",
   "execution_count": null,
   "metadata": {},
   "outputs": [],
   "source": [
    "L = [0.07, # thrust collar\n",
    "    0.058,\n",
    "    0.058, # 0 probe\n",
    "    0.052, # 0 bearing\n",
    "    0.092,\n",
    "    0.092,\n",
    "    0.092,\n",
    "    0.092, # 0 impeller\n",
    "    0.082, # 1 impeller\n",
    "    0.082, # 2 impeller\n",
    "    0.082, # 3 impeller\n",
    "    0.082, # 4 impeller\n",
    "    0.082, # 5 impeller\n",
    "    0.068, # honeycomb # change diameter\n",
    "    0.086,\n",
    "    0.086,\n",
    "    0.086,\n",
    "    0.086, # 1 bearing\n",
    "    0.086,\n",
    "    0.086]"
   ]
  },
  {
   "cell_type": "markdown",
   "metadata": {},
   "source": [
    "The next line defines a list with the number of each element (from 0 to len(L))."
   ]
  },
  {
   "cell_type": "code",
   "execution_count": null,
   "metadata": {},
   "outputs": [],
   "source": [
    "nelem = [x for x in range(len(L))]"
   ]
  },
  {
   "cell_type": "raw",
   "metadata": {},
   "source": [
    "Now we create a list with all the shaft elements using the :ref:`ShaftElement` class. In this case we are going to consider Timoshenko beam elements (with shear and rotary inertia effects)."
   ]
  },
  {
   "cell_type": "code",
   "execution_count": null,
   "metadata": {},
   "outputs": [],
   "source": [
    "shaft_elem = [lr.ShaftElement(l, si_d, so_d, material,\n",
    "                              shear_effects=True,\n",
    "                              rotary_inertia=True,\n",
    "                              gyroscopic=True) for l in L]"
   ]
  },
  {
   "cell_type": "raw",
   "metadata": {},
   "source": [
    "The disks are created using the :ref:`DiskElement` class."
   ]
  },
  {
   "cell_type": "code",
   "execution_count": null,
   "metadata": {},
   "outputs": [],
   "source": [
    "colar = lr.DiskElement(1, material, 0.035, so_d, 0.245)\n",
    "disk0 = lr.DiskElement(8, material, 0.02, so_d, 0.318)\n",
    "disk1 = lr.DiskElement(9, material, 0.02, so_d, 0.318)\n",
    "disk2 = lr.DiskElement(10, material, 0.02, so_d, 0.318)\n",
    "disk3 = lr.DiskElement(11, material, 0.02, so_d, 0.318)\n",
    "disk4 = lr.DiskElement(12, material, 0.02, so_d, 0.318)\n",
    "disk5 = lr.DiskElement(13, material, 0.02, so_d, 0.318)"
   ]
  },
  {
   "cell_type": "raw",
   "metadata": {},
   "source": [
    "For the bearings we use the :ref:`BearingElement` class. We will consider a constant stifness for the bearings."
   ]
  },
  {
   "cell_type": "code",
   "execution_count": null,
   "metadata": {},
   "outputs": [],
   "source": [
    "stfx = 1e8\n",
    "stfy = 1e8\n",
    "bearing0 = lr.BearingElement(4, kxx=stfx, kyy=stfy, cxx=0, cyy=0)\n",
    "bearing1 = lr.BearingElement(-3, kxx=stfx, kyy=stfy, cxx=0, cyy=0)"
   ]
  },
  {
   "cell_type": "raw",
   "metadata": {},
   "source": [
    "Now we assemble the compressor rotor using the :ref:`Rotor` class."
   ]
  },
  {
   "cell_type": "code",
   "execution_count": null,
   "metadata": {},
   "outputs": [],
   "source": [
    "compressor = lr.Rotor(shaft_elem,\n",
    "                      [colar, disk0, disk1, disk2, disk3, disk4, disk5],\n",
    "                      [bearing0, bearing1])"
   ]
  },
  {
   "cell_type": "raw",
   "metadata": {},
   "source": [
    "We can now use the function :ref:`plot_rotor`."
   ]
  },
  {
   "cell_type": "code",
   "execution_count": null,
   "metadata": {},
   "outputs": [],
   "source": [
    "compressor.plot_rotor()"
   ]
  },
  {
   "cell_type": "markdown",
   "metadata": {},
   "source": [
    "Now we are going to check the natural frequencies using the Campbell diagram.\n",
    "First we need to define the speed range that we want to analyze."
   ]
  },
  {
   "cell_type": "code",
   "execution_count": null,
   "metadata": {},
   "outputs": [],
   "source": [
    "speed = np.linspace(0, 1500, 10)"
   ]
  },
  {
   "cell_type": "raw",
   "metadata": {},
   "source": [
    "Now we can call the :ref:`campbell` function with mult=[1, 2] to plot 1x and 2x the speed."
   ]
  },
  {
   "cell_type": "code",
   "execution_count": null,
   "metadata": {},
   "outputs": [],
   "source": [
    "compressor.campbell(speed, mult=[1, 2])"
   ]
  },
  {
   "cell_type": "code",
   "execution_count": null,
   "metadata": {},
   "outputs": [],
   "source": []
  }
 ],
 "metadata": {
  "anaconda-cloud": {},
  "kernelspec": {
   "display_name": "Python 3",
   "language": "python",
   "name": "python3"
  },
  "language_info": {
   "codemirror_mode": {
    "name": "ipython",
    "version": 3
   },
   "file_extension": ".py",
   "mimetype": "text/x-python",
   "name": "python",
   "nbconvert_exporter": "python",
   "pygments_lexer": "ipython3",
   "version": "3.6.2"
  },
  "latex_envs": {
   "LaTeX_envs_menu_present": true,
   "autocomplete": true,
   "bibliofile": "biblio.bib",
   "cite_by": "apalike",
   "current_citInitial": 1.0,
   "eqLabelWithNumbers": true,
   "eqNumInitial": 1.0,
   "hotkeys": {
    "equation": "Ctrl-E",
    "itemize": "Ctrl-I"
   },
   "labels_anchors": false,
   "latex_user_defs": false,
   "report_style_numbering": false,
   "user_envs_cfg": false
  }
 },
 "nbformat": 4,
 "nbformat_minor": 1
}
