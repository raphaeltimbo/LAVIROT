{
 "cells": [
  {
   "cell_type": "markdown",
   "metadata": {},
   "source": [
    "# Compressor"
   ]
  },
  {
   "cell_type": "code",
   "execution_count": null,
   "metadata": {
    "collapsed": false
   },
   "outputs": [],
   "source": [
    "from LaviRot import *\n",
    "%matplotlib inline"
   ]
  },
  {
   "cell_type": "markdown",
   "metadata": {},
   "source": [
    "For this example we will consider a compressor with shaft and impellers made from AISI 4340, which has the following properties."
   ]
  },
  {
   "cell_type": "code",
   "execution_count": null,
   "metadata": {
    "collapsed": true
   },
   "outputs": [],
   "source": [
    "E = 211e9\n",
    "Gs = 81.2e9\n",
    "rho = 7810"
   ]
  },
  {
   "cell_type": "markdown",
   "metadata": {},
   "source": [
    "Shaft's inner and outer diameter will be:"
   ]
  },
  {
   "cell_type": "code",
   "execution_count": null,
   "metadata": {
    "collapsed": true
   },
   "outputs": [],
   "source": [
    "si_d = 0\n",
    "so_d = 0.127"
   ]
  },
  {
   "cell_type": "markdown",
   "metadata": {},
   "source": [
    "Now we define the length for each element, starting at the first element on the left (the element that will have the thrust collar)."
   ]
  },
  {
   "cell_type": "code",
   "execution_count": null,
   "metadata": {
    "collapsed": false
   },
   "outputs": [],
   "source": [
    "L = [0.07, # thrust collar\n",
    "    0.058,\n",
    "    0.058, # 0 probe\n",
    "    0.052, # 0 bearing\n",
    "    0.092,\n",
    "    0.092,\n",
    "    0.092,\n",
    "    0.092, # 0 impeller\n",
    "    0.082, # 1 impeller\n",
    "    0.082, # 2 impeller\n",
    "    0.082, # 3 impeller\n",
    "    0.082, # 4 impeller\n",
    "    0.082, # 5 impeller\n",
    "    0.068, # honeycomb # change diameter\n",
    "    0.086,\n",
    "    0.086,\n",
    "    0.086,\n",
    "    0.086, # 1 bearing\n",
    "    0.086,\n",
    "    0.086]"
   ]
  },
  {
   "cell_type": "markdown",
   "metadata": {},
   "source": [
    "The next line defines a list with the number of each element (from 0 to len(L))."
   ]
  },
  {
   "cell_type": "code",
   "execution_count": null,
   "metadata": {
    "collapsed": false
   },
   "outputs": [],
   "source": [
    "nelem = [x for x in range(len(L))]"
   ]
  },
  {
   "cell_type": "raw",
   "metadata": {},
   "source": [
    "Now we create a list with all the shaft elements using the :ref:`ShaftElement` class. In this case we are going to consider Timoshenko beam elements (with shear and rotary inertia effects)."
   ]
  },
  {
   "cell_type": "code",
   "execution_count": null,
   "metadata": {
    "collapsed": false
   },
   "outputs": [],
   "source": [
    "shaft_elem = [ShaftElement(n, l, si_d, so_d, E, Gs, rho,\n",
    "                           shear_effects=True,\n",
    "                           rotary_inertia=True,\n",
    "                           gyroscopic=True) for n, l in zip(nelem, L)]"
   ]
  },
  {
   "cell_type": "raw",
   "metadata": {},
   "source": [
    "The disks are created using the :ref:`DiskElement` class."
   ]
  },
  {
   "cell_type": "code",
   "execution_count": null,
   "metadata": {
    "collapsed": false
   },
   "outputs": [],
   "source": [
    "colar = DiskElement(1, rho, 0.035, so_d, 0.245)\n",
    "disk0 = DiskElement(8, rho, 0.02, so_d, 0.318)\n",
    "disk1 = DiskElement(9, rho, 0.02, so_d, 0.318)\n",
    "disk2 = DiskElement(10, rho, 0.02, so_d, 0.318)\n",
    "disk3 = DiskElement(11, rho, 0.02, so_d, 0.318)\n",
    "disk4 = DiskElement(12, rho, 0.02, so_d, 0.318)\n",
    "disk5 = DiskElement(13, rho, 0.02, so_d, 0.318)"
   ]
  },
  {
   "cell_type": "raw",
   "metadata": {},
   "source": [
    "For the bearings we use the :ref:`BearingElement` class. We will consider a constant stifness for the bearings."
   ]
  },
  {
   "cell_type": "code",
   "execution_count": null,
   "metadata": {
    "collapsed": false
   },
   "outputs": [],
   "source": [
    "stfx = 1e8\n",
    "stfy = 1e8\n",
    "bearing0 = BearingElement(4, stfx, stfy, 0, 0)\n",
    "bearing1 = BearingElement(-3, stfx, stfy, 0, 0)"
   ]
  },
  {
   "cell_type": "raw",
   "metadata": {},
   "source": [
    "Now we assemble the compressor rotor using the :ref:`Rotor` class."
   ]
  },
  {
   "cell_type": "code",
   "execution_count": null,
   "metadata": {
    "collapsed": false
   },
   "outputs": [],
   "source": [
    "compressor = Rotor(shaft_elem,\n",
    "                   [colar, disk0, disk1, disk2, disk3, disk4, disk5],\n",
    "                   [bearing0, bearing1])"
   ]
  },
  {
   "cell_type": "raw",
   "metadata": {},
   "source": [
    "We can now use the function :ref:`plot_rotor`."
   ]
  },
  {
   "cell_type": "code",
   "execution_count": null,
   "metadata": {
    "collapsed": false
   },
   "outputs": [],
   "source": [
    "plot_rotor(compressor)"
   ]
  },
  {
   "cell_type": "markdown",
   "metadata": {},
   "source": [
    "Now we are going to check the natural frequencies using the Campbell diagram.\n",
    "First we need to define the speed range that we want to analyze."
   ]
  },
  {
   "cell_type": "code",
   "execution_count": null,
   "metadata": {
    "collapsed": false
   },
   "outputs": [],
   "source": [
    "speed = np.linspace(0, 200, 10)"
   ]
  },
  {
   "cell_type": "raw",
   "metadata": {},
   "source": [
    "Now we can call the :ref:`campbell` function with mult=[1, 2] to plot 1x and 2x the speed."
   ]
  },
  {
   "cell_type": "code",
   "execution_count": null,
   "metadata": {
    "collapsed": false
   },
   "outputs": [],
   "source": [
    "campbell(compressor, speed, mult=[1, 2])"
   ]
  }
 ],
 "metadata": {
  "kernelspec": {
   "display_name": "Python 3",
   "language": "python",
   "name": "python3"
  },
  "language_info": {
   "codemirror_mode": {
    "name": "ipython",
    "version": 3.0
   },
   "file_extension": ".py",
   "mimetype": "text/x-python",
   "name": "python",
   "nbconvert_exporter": "python",
   "pygments_lexer": "ipython3",
   "version": "3.5.2"
  }
 },
 "nbformat": 4,
 "nbformat_minor": 0
}