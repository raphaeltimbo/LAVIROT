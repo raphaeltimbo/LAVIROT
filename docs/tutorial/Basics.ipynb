{
 "cells": [
  {
   "cell_type": "markdown",
   "metadata": {},
   "source": [
    "# Prerequisites"
   ]
  },
  {
   "cell_type": "markdown",
   "metadata": {},
   "source": [
    "At this moment, the library does not have a GUI and some Python knowledge is required.\n",
    "If you are not familiar with Python, we recommend installing the [Anaconda Distribution](https://www.continuum.io/downloads) with python version 3.5.\n",
    "\n",
    "Some sources to learn the language:\n",
    "First, learn how to use Jupyter. From their [website](http://jupyter.org/) :\n",
    "\n",
    ">The Jupyter Notebook is a web application that allows you to create and share documents that contain live code, equations, visualizations and explanatory text. \n",
    "\n",
    "There are a lot of material to learn Python using the jupyter notebook. Basically these are interactive books, where you can read some explanation about a code and you get the chance to immediately execute that code, change things to see what happen and interact with the results. It is great for learning.\n",
    "\n",
    "You can see the basics for jupyter notebooks [here](https://github.com/numerical-mooc/numerical-mooc/blob/master/lessons/00_getting_started/00_03_Intro_to_Jupyter_notebook.md).\n",
    "\n",
    "After that, we recommend the following [Scientific Python Lectures](https://github.com/jrjohansson/scientific-python-lectures).\n",
    "\n",
    "For Matlab® users [Numpy for Matlab users](https://docs.scipy.org/doc/numpy-dev/user/numpy-for-matlab-users.html) is recommended.\n",
    "\n",
    "There are also thousands of videos/tutorials from conferences:\n",
    "[SciPy Conference](https://www.youtube.com/user/EnthoughtMedia/playlists)"
   ]
  },
  {
   "cell_type": "markdown",
   "metadata": {},
   "source": [
    "# Basics"
   ]
  },
  {
   "cell_type": "raw",
   "metadata": {},
   "source": [
    "LaviRot is a Python library for rotordynamic analysis based on one-dimensional finite element method. It was originally developed in Matlab® :cite:`2007:ritto`."
   ]
  }
 ],
 "metadata": {
  "kernelspec": {
   "display_name": "Python 3",
   "language": "python",
   "name": "python3"
  },
  "language_info": {
   "codemirror_mode": {
    "name": "ipython",
    "version": 3
   },
   "file_extension": ".py",
   "mimetype": "text/x-python",
   "name": "python",
   "nbconvert_exporter": "python",
   "pygments_lexer": "ipython3",
   "version": "3.5.2"
  }
 },
 "nbformat": 4,
 "nbformat_minor": 0
}
